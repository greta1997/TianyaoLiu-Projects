{
 "cells": [
  {
   "cell_type": "markdown",
   "metadata": {},
   "source": [
    "# Airlines Twitter Posts Sentiment Analysis Using NLP"
   ]
  },
  {
   "cell_type": "markdown",
   "metadata": {},
   "source": [
    "### Tianyao Liu\n",
    "### Simon Business School"
   ]
  },
  {
   "cell_type": "code",
   "execution_count": 221,
   "metadata": {},
   "outputs": [],
   "source": [
    "import pandas as pd\n",
    "import numpy as np\n",
    "import matplotlib.pyplot as plt\n",
    "import seaborn as sns\n",
    "%matplotlib inline"
   ]
  },
  {
   "cell_type": "code",
   "execution_count": 222,
   "metadata": {},
   "outputs": [],
   "source": [
    "# read two files\n",
    "pos = pd.read_csv('noncomplaint1700.csv')\n",
    "neg = pd.read_csv('complaint1700.csv')"
   ]
  },
  {
   "cell_type": "markdown",
   "metadata": {},
   "source": [
    "## Data Cleaning"
   ]
  },
  {
   "cell_type": "code",
   "execution_count": 223,
   "metadata": {},
   "outputs": [
    {
     "name": "stdout",
     "output_type": "stream",
     "text": [
      "     id    airline                                              tweet\n",
      "0   404     United  @brianfadem @united The best summertime soap o...\n",
      "1   706  SouthWest  @aresef @united yes the change fees are cheape...\n",
      "2   882  SouthWest  @SouthwestAir Do you guys not fly from Birming...\n",
      "3  1196     United  This mornings @united #flight seems to be on t...\n",
      "4  1244    JetBlue  @JetBlue @Boston_Calling I have never been to ...\n",
      "       id    airline                                              tweet\n",
      "0   80938     United  @united I'm having issues. Yesterday I rebooke...\n",
      "1   10959     United  @united kinda feel like the $6.99 you charge f...\n",
      "2  130813  SouthWest  Livid in Vegas, delayed, again&amp; again&amp;...\n",
      "3  146589     United  @united the most annoying man on earth is on m...\n",
      "4  117579     United  @united The last 2 weeks I've flown wit u, you...\n"
     ]
    }
   ],
   "source": [
    "print(pos.head())\n",
    "print(neg.head())"
   ]
  },
  {
   "cell_type": "code",
   "execution_count": 224,
   "metadata": {},
   "outputs": [],
   "source": [
    "# add label column\n",
    "pos['label'] = 'pos' #positive\n",
    "neg['label'] = 'neg' #negative"
   ]
  },
  {
   "cell_type": "code",
   "execution_count": 225,
   "metadata": {},
   "outputs": [],
   "source": [
    "posts = pd.concat([pos,neg],axis=0).reset_index()"
   ]
  },
  {
   "cell_type": "markdown",
   "metadata": {},
   "source": [
    "## Exploratory Analysis"
   ]
  },
  {
   "cell_type": "code",
   "execution_count": 226,
   "metadata": {},
   "outputs": [
    {
     "data": {
      "text/plain": [
       "<matplotlib.axes._subplots.AxesSubplot at 0x1a1c61f710>"
      ]
     },
     "execution_count": 226,
     "metadata": {},
     "output_type": "execute_result"
    },
    {
     "data": {
      "image/png": "[encoded data removed]",
      "text/plain": [
       "<Figure size 432x288 with 1 Axes>"
      ]
     },
     "metadata": {
      "needs_background": "light"
     },
     "output_type": "display_data"
    }
   ],
   "source": [
    "# positive and negative airlines\n",
    "sns.countplot(x='airline',data=posts,hue='label',palette='viridis')\n",
    "# JetBlue got the most positive comments; American airlines got the most negative comments"
   ]
  },
  {
   "cell_type": "code",
   "execution_count": 227,
   "metadata": {},
   "outputs": [],
   "source": [
    "# create a column containing text length\n",
    "posts['len'] = posts['tweet'].apply(len)"
   ]
  },
  {
   "cell_type": "code",
   "execution_count": 228,
   "metadata": {},
   "outputs": [
    {
     "data": {
      "text/plain": [
       "count    3400.000000\n",
       "mean      112.362647\n",
       "std        29.523298\n",
       "min        15.000000\n",
       "25%        94.000000\n",
       "50%       123.000000\n",
       "75%       137.000000\n",
       "max       187.000000\n",
       "Name: len, dtype: float64"
      ]
     },
     "execution_count": 228,
     "metadata": {},
     "output_type": "execute_result"
    }
   ],
   "source": [
    "posts['len'].describe()"
   ]
  },
  {
   "cell_type": "code",
   "execution_count": 229,
   "metadata": {},
   "outputs": [
    {
     "data": {
      "text/plain": [
       "<matplotlib.axes._subplots.AxesSubplot at 0x1a17a60c50>"
      ]
     },
     "execution_count": 229,
     "metadata": {},
     "output_type": "execute_result"
    },
    {
     "data": {
      "image/png": "[encoded data removed]",
      "text/plain": [
       "<Figure size 432x288 with 1 Axes>"
      ]
     },
     "metadata": {
      "needs_background": "light"
     },
     "output_type": "display_data"
    }
   ],
   "source": [
    "sns.boxplot(x='label',data=posts,y='len')\n",
    "# not nuch differences! \n",
    "# Except negative posts have less variance in length but more small outliers\n",
    "# That's probably because of the negative sentiment. People does not want to describe much."
   ]
  },
  {
   "cell_type": "markdown",
   "metadata": {},
   "source": [
    "## NLP"
   ]
  },
  {
   "cell_type": "code",
   "execution_count": 230,
   "metadata": {},
   "outputs": [],
   "source": [
    "from sklearn.model_selection import train_test_split\n",
    "from sklearn.feature_extraction.text import CountVectorizer\n",
    "from sklearn.feature_extraction.text import TfidfTransformer\n",
    "from sklearn.naive_bayes import MultinomialNB\n",
    "from sklearn.pipeline import Pipeline"
   ]
  },
  {
   "cell_type": "code",
   "execution_count": 231,
   "metadata": {},
   "outputs": [],
   "source": [
    "import string\n",
    "from nltk.corpus import stopwords"
   ]
  },
  {
   "cell_type": "code",
   "execution_count": 232,
   "metadata": {},
   "outputs": [],
   "source": [
    "# function to remove punctuation as stopwords\n",
    "# function to remove punctuation as stopwords\n",
    "def text_process(mess):\n",
    "    \n",
    "    # punctuation\n",
    "    nopunc = [char for char in mess if char not in string.punctuation]\n",
    "\n",
    "    # Join to form the string.\n",
    "    nopunc = ''.join(nopunc)\n",
    "    \n",
    "    # stopwords\n",
    "    return [word for word in nopunc.split() if word.lower() not in stopwords.words('english')]"
   ]
  },
  {
   "cell_type": "code",
   "execution_count": 233,
   "metadata": {},
   "outputs": [
    {
     "name": "stdout",
     "output_type": "stream",
     "text": [
      "2380 1020 3400\n"
     ]
    }
   ],
   "source": [
    "# train-test split\n",
    "X_train, X_test, y_train, y_test = train_test_split(posts['tweet'], posts['label'], test_size=0.3,random_state=101)\n",
    "\n",
    "print(len(X_train), len(X_test), len(y_train) + len(y_test))"
   ]
  },
  {
   "cell_type": "markdown",
   "metadata": {},
   "source": [
    "### (1) Naive Bayes"
   ]
  },
  {
   "cell_type": "code",
   "execution_count": 253,
   "metadata": {},
   "outputs": [],
   "source": [
    "from sklearn.pipeline import Pipeline\n",
    "# pass in a list\n",
    "pipelineNB = Pipeline([\n",
    "    ('bow', CountVectorizer(analyzer=text_process)),  # strings to token integer counts\n",
    "    ('tfidf', TfidfTransformer()),  # integer counts to weighted TF-IDF scores\n",
    "    ('classifier', MultinomialNB()),  # train on TF-IDF vectors w/ Naive Bayes classifier\n",
    "])"
   ]
  },
  {
   "cell_type": "code",
   "execution_count": 254,
   "metadata": {},
   "outputs": [
    {
     "data": {
      "text/plain": [
       "Pipeline(memory=None,\n",
       "         steps=[('bow',\n",
       "                 CountVectorizer(analyzer=<function text_process at 0x1a17ac1d08>,\n",
       "                                 binary=False, decode_error='strict',\n",
       "                                 dtype=<class 'numpy.int64'>, encoding='utf-8',\n",
       "                                 input='content', lowercase=True, max_df=1.0,\n",
       "                                 max_features=None, min_df=1,\n",
       "                                 ngram_range=(1, 1), preprocessor=None,\n",
       "                                 stop_words=None, strip_accents=None,\n",
       "                                 token_pattern='(?u)\\\\b\\\\w\\\\w+\\\\b',\n",
       "                                 tokenizer=None, vocabulary=None)),\n",
       "                ('tfidf',\n",
       "                 TfidfTransformer(norm='l2', smooth_idf=True,\n",
       "                                  sublinear_tf=False, use_idf=True)),\n",
       "                ('classifier',\n",
       "                 MultinomialNB(alpha=1.0, class_prior=None, fit_prior=True))],\n",
       "         verbose=False)"
      ]
     },
     "execution_count": 254,
     "metadata": {},
     "output_type": "execute_result"
    }
   ],
   "source": [
    "pipelineNB.fit(X_train,y_train)"
   ]
  },
  {
   "cell_type": "code",
   "execution_count": 255,
   "metadata": {},
   "outputs": [],
   "source": [
    "predictionsNB = pipeline.predict(X_test)"
   ]
  },
  {
   "cell_type": "code",
   "execution_count": 256,
   "metadata": {},
   "outputs": [],
   "source": [
    "# evaluation\n",
    "from sklearn.metrics import classification_report, confusion_matrix"
   ]
  },
  {
   "cell_type": "code",
   "execution_count": 257,
   "metadata": {},
   "outputs": [
    {
     "name": "stdout",
     "output_type": "stream",
     "text": [
      "[[426 215]\n",
      " [ 72 307]]\n",
      "              precision    recall  f1-score   support\n",
      "\n",
      "         neg       0.86      0.66      0.75       641\n",
      "         pos       0.59      0.81      0.68       379\n",
      "\n",
      "    accuracy                           0.72      1020\n",
      "   macro avg       0.72      0.74      0.71      1020\n",
      "weighted avg       0.76      0.72      0.72      1020\n",
      "\n"
     ]
    }
   ],
   "source": [
    "print(confusion_matrix(predictionsNB,y_test))\n",
    "print(classification_report(predictionsNB,y_test))"
   ]
  },
  {
   "cell_type": "markdown",
   "metadata": {},
   "source": [
    "### (2) Random Forest"
   ]
  },
  {
   "cell_type": "code",
   "execution_count": 239,
   "metadata": {},
   "outputs": [],
   "source": [
    "from sklearn.ensemble import RandomForestClassifier"
   ]
  },
  {
   "cell_type": "code",
   "execution_count": 252,
   "metadata": {},
   "outputs": [],
   "source": [
    "#just change third elements of pipeline\n",
    "pipelineRF = Pipeline([\n",
    "    ('bow', CountVectorizer(analyzer=text_process)),  # strings to token integer counts\n",
    "    ('tfidf', TfidfTransformer()),  # integer counts to weighted TF-IDF scores\n",
    "    ('classifier', RandomForestClassifier()),  # train on TF-IDF vectors w/ Random Forest\n",
    "])"
   ]
  },
  {
   "cell_type": "code",
   "execution_count": 258,
   "metadata": {},
   "outputs": [
    {
     "name": "stderr",
     "output_type": "stream",
     "text": [
      "/Users/liutianyao/anaconda3/lib/python3.7/site-packages/sklearn/ensemble/forest.py:245: FutureWarning: The default value of n_estimators will change from 10 in version 0.20 to 100 in 0.22.\n",
      "  \"10 in version 0.20 to 100 in 0.22.\", FutureWarning)\n"
     ]
    },
    {
     "name": "stdout",
     "output_type": "stream",
     "text": [
      "[[389 189]\n",
      " [109 333]]\n",
      "              precision    recall  f1-score   support\n",
      "\n",
      "         neg       0.78      0.67      0.72       578\n",
      "         pos       0.64      0.75      0.69       442\n",
      "\n",
      "    accuracy                           0.71      1020\n",
      "   macro avg       0.71      0.71      0.71      1020\n",
      "weighted avg       0.72      0.71      0.71      1020\n",
      "\n"
     ]
    }
   ],
   "source": [
    "pipelineRF.fit(X_train,y_train)\n",
    "predictionsRF = pipelineRF.predict(X_test)\n",
    "\n",
    "print(confusion_matrix(predictionsRF,y_test))\n",
    "print(classification_report(predictionsRF,y_test))\n",
    "\n",
    "# not as good as Naive Bayes"
   ]
  },
  {
   "cell_type": "markdown",
   "metadata": {},
   "source": [
    "### (3) Logistic Regression"
   ]
  },
  {
   "cell_type": "code",
   "execution_count": 242,
   "metadata": {},
   "outputs": [],
   "source": [
    "from sklearn.linear_model import LogisticRegression"
   ]
  },
  {
   "cell_type": "code",
   "execution_count": 243,
   "metadata": {},
   "outputs": [],
   "source": [
    "pipelineLR = Pipeline([\n",
    "    ('bow', CountVectorizer(analyzer=text_process)),  # strings to token integer counts\n",
    "    ('tfidf', TfidfTransformer()),  # integer counts to weighted TF-IDF scores\n",
    "    ('classifier', LogisticRegression()),  # train on TF-IDF vectors w/ Logistic Regression\n",
    "])"
   ]
  },
  {
   "cell_type": "code",
   "execution_count": 259,
   "metadata": {},
   "outputs": [
    {
     "name": "stderr",
     "output_type": "stream",
     "text": [
      "/Users/liutianyao/anaconda3/lib/python3.7/site-packages/sklearn/linear_model/logistic.py:432: FutureWarning: Default solver will be changed to 'lbfgs' in 0.22. Specify a solver to silence this warning.\n",
      "  FutureWarning)\n"
     ]
    },
    {
     "name": "stdout",
     "output_type": "stream",
     "text": [
      "[[387 141]\n",
      " [111 381]]\n",
      "              precision    recall  f1-score   support\n",
      "\n",
      "         neg       0.78      0.73      0.75       528\n",
      "         pos       0.73      0.77      0.75       492\n",
      "\n",
      "    accuracy                           0.75      1020\n",
      "   macro avg       0.75      0.75      0.75      1020\n",
      "weighted avg       0.75      0.75      0.75      1020\n",
      "\n"
     ]
    }
   ],
   "source": [
    "pipelineLR.fit(X_train,y_train)\n",
    "predictionsLR = pipelineLR.predict(X_test)\n",
    "\n",
    "print(confusion_matrix(predictionsLR,y_test))\n",
    "print(classification_report(predictionsLR,y_test))\n",
    "\n",
    "# also good!"
   ]
  },
  {
   "cell_type": "markdown",
   "metadata": {},
   "source": [
    "## Pass Naive Bayes to the unlabelled test data"
   ]
  },
  {
   "cell_type": "code",
   "execution_count": 245,
   "metadata": {},
   "outputs": [],
   "source": [
    "test = pd.read_csv('temp.csv')"
   ]
  },
  {
   "cell_type": "code",
   "execution_count": 246,
   "metadata": {},
   "outputs": [
    {
     "name": "stdout",
     "output_type": "stream",
     "text": [
      "<class 'pandas.core.frame.DataFrame'>\n",
      "RangeIndex: 4553 entries, 0 to 4552\n",
      "Data columns (total 5 columns):\n",
      "id                    4553 non-null int64\n",
      "tid_not_to_be_used    4553 non-null float64\n",
      "airline               4553 non-null object\n",
      "tag                   4553 non-null object\n",
      "tweet                 4553 non-null object\n",
      "dtypes: float64(1), int64(1), object(3)\n",
      "memory usage: 177.9+ KB\n"
     ]
    }
   ],
   "source": [
    "test.info()"
   ]
  },
  {
   "cell_type": "code",
   "execution_count": 247,
   "metadata": {},
   "outputs": [
    {
     "data": {
      "text/html": [
       "<div>\n",
       "<style scoped>\n",
       "    .dataframe tbody tr th:only-of-type {\n",
       "        vertical-align: middle;\n",
       "    }\n",
       "\n",
       "    .dataframe tbody tr th {\n",
       "        vertical-align: top;\n",
       "    }\n",
       "\n",
       "    .dataframe thead th {\n",
       "        text-align: right;\n",
       "    }\n",
       "</style>\n",
       "<table border=\"1\" class=\"dataframe\">\n",
       "  <thead>\n",
       "    <tr style=\"text-align: right;\">\n",
       "      <th></th>\n",
       "      <th>id</th>\n",
       "      <th>tid_not_to_be_used</th>\n",
       "      <th>airline</th>\n",
       "      <th>tag</th>\n",
       "      <th>tweet</th>\n",
       "    </tr>\n",
       "  </thead>\n",
       "  <tbody>\n",
       "    <tr>\n",
       "      <th>0</th>\n",
       "      <td>72</td>\n",
       "      <td>5.062687e+17</td>\n",
       "      <td>SouthWest</td>\n",
       "      <td>dM}c5i95_Wot</td>\n",
       "      <td>@SouthwestAir the upside to being stuck on a p...</td>\n",
       "    </tr>\n",
       "    <tr>\n",
       "      <th>1</th>\n",
       "      <td>90</td>\n",
       "      <td>5.062885e+17</td>\n",
       "      <td>United</td>\n",
       "      <td>dM}c5i95_Wot</td>\n",
       "      <td>After a 5 hour weather delay in Newark I misse...</td>\n",
       "    </tr>\n",
       "    <tr>\n",
       "      <th>2</th>\n",
       "      <td>91</td>\n",
       "      <td>5.062894e+17</td>\n",
       "      <td>JetBlue</td>\n",
       "      <td>dM}c5i95_Wot</td>\n",
       "      <td>@ArianFoster never mess around with those old ...</td>\n",
       "    </tr>\n",
       "    <tr>\n",
       "      <th>3</th>\n",
       "      <td>99</td>\n",
       "      <td>5.063009e+17</td>\n",
       "      <td>United</td>\n",
       "      <td>dM}c5i95_Wot</td>\n",
       "      <td>@CTony202 @united walking would probably be pr...</td>\n",
       "    </tr>\n",
       "    <tr>\n",
       "      <th>4</th>\n",
       "      <td>197</td>\n",
       "      <td>5.064596e+17</td>\n",
       "      <td>VirginAmerica</td>\n",
       "      <td>dM}c5i95_Wot</td>\n",
       "      <td>@IIJERiiCHOII @VirginAmerica Shit man that sucks</td>\n",
       "    </tr>\n",
       "  </tbody>\n",
       "</table>\n",
       "</div>"
      ],
      "text/plain": [
       "    id  tid_not_to_be_used        airline           tag  \\\n",
       "0   72        5.062687e+17      SouthWest  dM}c5i95_Wot   \n",
       "1   90        5.062885e+17         United  dM}c5i95_Wot   \n",
       "2   91        5.062894e+17        JetBlue  dM}c5i95_Wot   \n",
       "3   99        5.063009e+17         United  dM}c5i95_Wot   \n",
       "4  197        5.064596e+17  VirginAmerica  dM}c5i95_Wot   \n",
       "\n",
       "                                               tweet  \n",
       "0  @SouthwestAir the upside to being stuck on a p...  \n",
       "1  After a 5 hour weather delay in Newark I misse...  \n",
       "2  @ArianFoster never mess around with those old ...  \n",
       "3  @CTony202 @united walking would probably be pr...  \n",
       "4   @IIJERiiCHOII @VirginAmerica Shit man that sucks  "
      ]
     },
     "execution_count": 247,
     "metadata": {},
     "output_type": "execute_result"
    }
   ],
   "source": [
    "test.head()"
   ]
  },
  {
   "cell_type": "code",
   "execution_count": 265,
   "metadata": {},
   "outputs": [],
   "source": [
    "predictionsNB = pipelineNB.predict(test['tweet'])"
   ]
  },
  {
   "cell_type": "code",
   "execution_count": 266,
   "metadata": {},
   "outputs": [],
   "source": [
    "test['label'] = predictionsNB"
   ]
  },
  {
   "cell_type": "code",
   "execution_count": 267,
   "metadata": {},
   "outputs": [
    {
     "data": {
      "text/plain": [
       "neg    3687\n",
       "pos     866\n",
       "Name: label, dtype: int64"
      ]
     },
     "execution_count": 267,
     "metadata": {},
     "output_type": "execute_result"
    }
   ],
   "source": [
    "test['label'].value_counts()"
   ]
  }
 ],
 "metadata": {
  "kernelspec": {
   "display_name": "Python 3",
   "language": "python",
   "name": "python3"
  },
  "language_info": {
   "codemirror_mode": {
    "name": "ipython",
    "version": 3
   },
   "file_extension": ".py",
   "mimetype": "text/x-python",
   "name": "python",
   "nbconvert_exporter": "python",
   "pygments_lexer": "ipython3",
   "version": "3.7.3"
  },
  "toc": {
   "base_numbering": 1,
   "nav_menu": {},
   "number_sections": false,
   "sideBar": false,
   "skip_h1_title": false,
   "title_cell": "Table of Contents",
   "title_sidebar": "Contents",
   "toc_cell": false,
   "toc_position": {},
   "toc_section_display": false,
   "toc_window_display": false
  }
 },
 "nbformat": 4,
 "nbformat_minor": 2
}
